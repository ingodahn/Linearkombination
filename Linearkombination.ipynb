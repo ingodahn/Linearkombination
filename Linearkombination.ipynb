{
 "cells": [
  {
   "cell_type": "markdown",
   "metadata": {
    "collapsed": false
   },
   "source": [
    "<h1>Darstellung eines Vektors als Linearkombination</h1>\n",
    "<p>In diesem Notebook lernen Sie, wie man einen Vektor als Linearkombination anderer Vektoren darstellt.</p>\n",
    "\n",
    "Als Beispiel betrachten wir die auch in <a href=\"https://youtu.be/4kM5jCju4-s\" target=\"_blank\">diesem Video</a> behandelte Aufgabe, den Vektor $\\vec{b} = \\begin{pmatrix}2 \\\\ 3 \\\\ 4\\end{pmatrix}$ als Linearkombination der Vektoren $\\vec{a}_1 = \\begin{pmatrix}3 \\\\ 2 \\\\ 3\\end{pmatrix},\\vec{a}_2 = \\begin{pmatrix}2 \\\\ 1 \\\\ 0\\end{pmatrix}, \\vec{a}_3 = \\begin{pmatrix}1 \\\\ 0 \\\\ 1\\end{pmatrix}$ darzustellen.\n",
    "\n",
    "Wir suchen also Koeffizienten $a,b,c$, so dass $$a \\vec{a}_1 + b\\vec{a}_2 + c \\vec{a}_3 = a \\begin{pmatrix}3 \\\\ 2 \\\\ 3\\end{pmatrix}+ b \\begin{pmatrix}2 \\\\ 1 \\\\ 0\\end{pmatrix} + c \\begin{pmatrix}1 \\\\ 0 \\\\ 1\\end{pmatrix} = \\begin{pmatrix}2 \\\\ 3 \\\\ 4\\end{pmatrix}.$$"
   ]
  },
  {
   "cell_type": "markdown",
   "metadata": {
    "collapsed": false
   },
   "source": [
    "Zum Verständnis dieser Seite sollten Sie mit dem Lösen von linearen Gleichungssystemen vertraut sein. <a href=\"https://netmath.vcrp.de/IMathAS/multiembedq.php?theme=netmath&id=1617-1152-3642\" target=\"_blank\">Diese Aufgaben</a> sollte Ihnen keine Probleme bereiten."
   ]
  },
  {
   "cell_type": "code",
   "execution_count": 2,
   "metadata": {
    "collapsed": false,
    "jupyter": {
     "source_hidden": true
    }
   },
   "outputs": [
   ],
   "source": [
    "b0=vector([2,3,4])\n",
    "a1=vector([3,2,3])\n",
    "a2=vector([2,1,0])\n",
    "a3=vector([1,0,1])"
   ]
  },
  {
   "cell_type": "markdown",
   "metadata": {
    "collapsed": false
   },
   "source": [
    "Werfen wir zunächst einen Blick auf die Lage dieser Vektoren im Raum."
   ]
  },
  {
   "cell_type": "code",
   "execution_count": 3,
   "metadata": {
    "collapsed": false,
    "jupyter": {
     "source_hidden": true
    }
   },
   "outputs": [
    {
     "data": {
      "text/html": "\n<iframe srcdoc=\"<!DOCTYPE html>\n<html>\n<head>\n<title></title>\n<meta charset=&quot;utf-8&quot;>\n<meta name=viewport content=&quot;width=device-width, user-scalable=no, minimum-scale=1.0, maximum-scale=1.0&quot;>\n<style>\n\n    body { margin: 0px; overflow: hidden; }\n\n    #download { position: absolute; bottom: 30px; right: 40px; }\n  \n</style>\n</head>\n\n<body>\n\n<script src=&quot;/nbextensions/threejs/three.min.js&quot;></script>\n<script src=&quot;/nbextensions/threejs/OrbitControls.js&quot;></script>\n<script>\n  if ( !window.THREE ) document.write(' \\\n<script src=&quot;https://cdn.jsdelivr.net/gh/mrdoob/three.js@r100/build/three.min.js&quot;><\\/script> \\\n<script src=&quot;https://cdn.jsdelivr.net/gh/mrdoob/three.js@r100/examples/js/controls/OrbitControls.js&quot;><\\/script> \\\n            ');\n</script>\n        \n<script>\n\n    var scene = new THREE.Scene();\n\n    var renderer = new THREE.WebGLRenderer( { antialias: true, preserveDrawingBuffer: true } );\n    renderer.setPixelRatio( window.devicePixelRatio );\n    renderer.setSize( window.innerWidth, window.innerHeight );\n    renderer.setClearColor( 0xffffff, 1 );\n    document.body.appendChild( renderer.domElement );\n\n    var options = {&quot;aspect_ratio&quot;: [1.0, 1.0, 1.0], &quot;decimals&quot;: 2, &quot;frame&quot;: true, &quot;axes&quot;: false, &quot;axes_labels&quot;: [&quot;x&quot;, &quot;y&quot;, &quot;z&quot;]};\n\n    // When animations are supported by the viewer, the value 'false'\n    // will be replaced with an option set in Python by the user\n    var animate = false; // options.animate;\n\n    var b = [{&quot;x&quot;:-0.0207914419917, &quot;y&quot;:-0.0485410196625, &quot;z&quot;:-0.0778718642311}, {&quot;x&quot;:3.05089991126, &quot;y&quot;:3.05608988768, &quot;z&quot;:4.04823433456}]; // bounds\n\n    if ( b[0].x === b[1].x ) {\n        b[0].x -= 1;\n        b[1].x += 1;\n    }\n    if ( b[0].y === b[1].y ) {\n        b[0].y -= 1;\n        b[1].y += 1;\n    }\n    if ( b[0].z === b[1].z ) {\n        b[0].z -= 1;\n        b[1].z += 1;\n    }\n\n    var rRange = Math.sqrt( Math.pow( b[1].x - b[0].x, 2 )\n                            + Math.pow( b[1].y - b[0].y, 2 ) );\n    var xRange = b[1].x - b[0].x;\n    var yRange = b[1].y - b[0].y;\n    var zRange = b[1].z - b[0].z;\n\n    var ar = options.aspect_ratio;\n    var a = [ ar[0], ar[1], ar[2] ]; // aspect multipliers\n    var autoAspect = 2.5;\n    if ( zRange > autoAspect * rRange && a[2] === 1 ) a[2] = autoAspect * rRange / zRange;\n\n    var xMid = ( b[0].x + b[1].x ) / 2;\n    var yMid = ( b[0].y + b[1].y ) / 2;\n    var zMid = ( b[0].z + b[1].z ) / 2;\n\n    var box = new THREE.Geometry();\n    box.vertices.push( new THREE.Vector3( a[0]*b[0].x, a[1]*b[0].y, a[2]*b[0].z ) );\n    box.vertices.push( new THREE.Vector3( a[0]*b[1].x, a[1]*b[1].y, a[2]*b[1].z ) );\n    var boxMesh = new THREE.LineSegments( box );\n    if ( options.frame ) scene.add( new THREE.BoxHelper( boxMesh, 'black' ) );\n\n    if ( options.axes_labels ) {\n\n        var d = options.decimals; // decimals\n        var offsetRatio = 0.1;\n        var al = options.axes_labels;\n\n        var offset = offsetRatio * a[1]*( b[1].y - b[0].y );\n        var xm = xMid.toFixed(d);\n        if ( /^-0.?0*$/.test(xm) ) xm = xm.substr(1);\n        addLabel( al[0] + '=' + xm, a[0]*xMid, a[1]*b[1].y+offset, a[2]*b[0].z );\n        addLabel( ( b[0].x ).toFixed(d), a[0]*b[0].x, a[1]*b[1].y+offset, a[2]*b[0].z );\n        addLabel( ( b[1].x ).toFixed(d), a[0]*b[1].x, a[1]*b[1].y+offset, a[2]*b[0].z );\n\n        var offset = offsetRatio * a[0]*( b[1].x - b[0].x );\n        var ym = yMid.toFixed(d);\n        if ( /^-0.?0*$/.test(ym) ) ym = ym.substr(1);\n        addLabel( al[1] + '=' + ym, a[0]*b[1].x+offset, a[1]*yMid, a[2]*b[0].z );\n        addLabel( ( b[0].y ).toFixed(d), a[0]*b[1].x+offset, a[1]*b[0].y, a[2]*b[0].z );\n        addLabel( ( b[1].y ).toFixed(d), a[0]*b[1].x+offset, a[1]*b[1].y, a[2]*b[0].z );\n\n        var offset = offsetRatio * a[1]*( b[1].y - b[0].y );\n        var zm = zMid.toFixed(d);\n        if ( /^-0.?0*$/.test(zm) ) zm = zm.substr(1);\n        addLabel( al[2] + '=' + zm, a[0]*b[1].x, a[1]*b[0].y-offset, a[2]*zMid );\n        addLabel( ( b[0].z ).toFixed(d), a[0]*b[1].x, a[1]*b[0].y-offset, a[2]*b[0].z );\n        addLabel( ( b[1].z ).toFixed(d), a[0]*b[1].x, a[1]*b[0].y-offset, a[2]*b[1].z );\n\n    }\n\n    function addLabel( text, x, y, z ) {\n\n        var fontsize = 14;\n\n        var canvas = document.createElement( 'canvas' );\n        var pixelRatio = Math.round( window.devicePixelRatio );\n        canvas.width = 128 * pixelRatio;\n        canvas.height = 32 * pixelRatio; // powers of two\n        canvas.style.width = '128px';\n        canvas.style.height = '32px';\n\n        var context = canvas.getContext( '2d' );\n        context.scale( pixelRatio, pixelRatio );\n        context.fillStyle = 'black';\n        context.font = fontsize + 'px monospace';\n        context.textAlign = 'center';\n        context.textBaseline = 'middle';\n        context.fillText( text, canvas.width/2/pixelRatio, canvas.height/2/pixelRatio );\n\n        var texture = new THREE.Texture( canvas );\n        texture.needsUpdate = true;\n\n        var sprite = new THREE.Sprite( new THREE.SpriteMaterial( { map: texture } ) );\n        sprite.position.set( x, y, z );\n        sprite.scale.set( 1, .25 ); // ratio of width to height\n        scene.add( sprite );\n\n    }\n\n    if ( options.axes ) scene.add( new THREE.AxesHelper( Math.min( a[0]*b[1].x, a[1]*b[1].y, a[2]*b[1].z ) ) );\n\n    var camera = new THREE.PerspectiveCamera( 45, window.innerWidth / window.innerHeight, 0.1, 1000 );\n    camera.up.set( 0, 0, 1 );\n    camera.position.set( a[0]*(xMid+xRange), a[1]*(yMid+yRange), a[2]*(zMid+zRange) );\n\n    var lights = [{&quot;x&quot;:-5, &quot;y&quot;:3, &quot;z&quot;:0, &quot;color&quot;:&quot;#7f7f7f&quot;, &quot;parent&quot;:&quot;camera&quot;}];\n    for ( var i=0 ; i < lights.length ; i++ ) {\n        var light = new THREE.DirectionalLight( lights[i].color, 1 );\n        light.position.set( a[0]*lights[i].x, a[1]*lights[i].y, a[2]*lights[i].z );\n        if ( lights[i].parent === 'camera' ) {\n            light.target.position.set( a[0]*xMid, a[1]*yMid, a[2]*zMid );\n            scene.add( light.target );\n            camera.add( light );\n        } else scene.add( light );\n    }\n    scene.add( camera );\n\n    var ambient = {&quot;color&quot;:&quot;#7f7f7f&quot;};\n    scene.add( new THREE.AmbientLight( ambient.color, 1 ) );\n\n    var controls = new THREE.OrbitControls( camera, renderer.domElement );\n    controls.target.set( a[0]*xMid, a[1]*yMid, a[2]*zMid );\n    controls.addEventListener( 'change', function() { if ( !animate ) render(); } );\n\n    window.addEventListener( 'resize', function() {\n        \n        renderer.setSize( window.innerWidth, window.innerHeight );\n        camera.aspect = window.innerWidth / window.innerHeight;\n        camera.updateProjectionMatrix();\n        if ( !animate ) render();\n        \n    } );\n\n    function saveAsPNG() {\n\n        var a = document.body.appendChild( document.createElement( 'a' ) );\n        a.href = renderer.domElement.toDataURL( 'image/png' );\n        a.download = 'screenshot';\n        a.click();\n\n    }\n\n    var texts = [];\n    for ( var i=0 ; i < texts.length ; i++ )\n        addLabel( texts[i].text, a[0]*texts[i].x, a[1]*texts[i].y, a[2]*texts[i].z );\n\n    var points = [];\n    for ( var i=0 ; i < points.length ; i++ ) addPoint( points[i] );\n\n    function addPoint( json ) {\n\n        var geometry = new THREE.Geometry();\n        var v = json.point;\n        geometry.vertices.push( new THREE.Vector3( a[0]*v[0], a[1]*v[1], a[2]*v[2] ) );\n\n        var canvas = document.createElement( 'canvas' );\n        canvas.width = 128;\n        canvas.height = 128;\n\n        var context = canvas.getContext( '2d' );\n        context.arc( 64, 64, 64, 0, 2 * Math.PI );\n        context.fillStyle = json.color;\n        context.fill();\n\n        var texture = new THREE.Texture( canvas );\n        texture.needsUpdate = true;\n\n        var transparent = json.opacity < 1 ? true : false;\n        var material = new THREE.PointsMaterial( { size: json.size/100, map: texture,\n                                                   transparent: transparent, opacity: json.opacity,\n                                                   alphaTest: .1 } );\n\n        var c = new THREE.Vector3();\n        geometry.computeBoundingBox();\n        geometry.boundingBox.getCenter( c );\n        geometry.translate( -c.x, -c.y, -c.z );\n\n        var mesh = new THREE.Points( geometry, material );\n        mesh.position.set( c.x, c.y, c.z );\n        scene.add( mesh );\n\n    }\n\n    var lines = [];\n    for ( var i=0 ; i < lines.length ; i++ ) addLine( lines[i] );\n\n    function addLine( json ) {\n\n        var geometry = new THREE.Geometry();\n        for ( var i=0 ; i < json.points.length - 1 ; i++ ) {\n            var v = json.points[i];\n            geometry.vertices.push( new THREE.Vector3( a[0]*v[0], a[1]*v[1], a[2]*v[2] ) );\n            var v = json.points[i+1];\n            geometry.vertices.push( new THREE.Vector3( a[0]*v[0], a[1]*v[1], a[2]*v[2] ) );\n        }\n\n        var transparent = json.opacity < 1 ? true : false;\n        var material = new THREE.LineBasicMaterial( { color: json.color, linewidth: json.linewidth,\n                                                      transparent: transparent, opacity: json.opacity } );\n\n        var c = new THREE.Vector3();\n        geometry.computeBoundingBox();\n        geometry.boundingBox.getCenter( c );\n        geometry.translate( -c.x, -c.y, -c.z );\n\n        var mesh = new THREE.LineSegments( geometry, material );\n        mesh.position.set( c.x, c.y, c.z );\n        scene.add( mesh );\n\n    }\n\n    var surfaces = [{&quot;vertices&quot;:[{&quot;x&quot;:1.93315,&quot;y&quot;:2.89972,&quot;z&quot;:3.8663},{&quot;x&quot;:1.94993,&quot;y&quot;:2.90255,&quot;z&quot;:3.85579},{&quot;x&quot;:1.93078,&quot;y&quot;:2.91616,&quot;z&quot;:3.85516},{&quot;x&quot;:1.9459,&quot;y&quot;:2.88503,&quot;z&quot;:3.87095},{&quot;x&quot;:1.92425,&quot;y&quot;:2.88782,&quot;z&quot;:3.87968},{&quot;x&quot;:1.9149,&quot;y&quot;:2.90706,&quot;z&quot;:3.86992},{&quot;x&quot;:0.016782,&quot;y&quot;:0.00282166,&quot;z&quot;:-0.0105073},{&quot;x&quot;:-0.00237433,&quot;y&quot;:0.0164385,&quot;z&quot;:-0.0111417},{&quot;x&quot;:0.0127462,&quot;y&quot;:-0.0146946,&quot;z&quot;:0.00464788},{&quot;x&quot;:-0.00890444,&quot;y&quot;:-0.0119034,&quot;z&quot;:0.0133798},{&quot;x&quot;:-0.0182494,&quot;y&quot;:0.0073379,&quot;z&quot;:0.00362129},{&quot;x&quot;:0,&quot;y&quot;:0,&quot;z&quot;:0}], &quot;faces&quot;:[[0,1,2],[0,3,1],[0,4,3],[0,5,4],[0,2,5],[2,1,6,7],[1,3,8,6],[3,4,9,8],[4,5,10,9],[5,2,7,10],[7,6,11],[6,8,11],[8,9,11],[9,10,11],[10,7,11]], &quot;color&quot;:&quot;#008000&quot;, &quot;opacity&quot;:1.0},{&quot;vertices&quot;:[{&quot;x&quot;:2,&quot;y&quot;:3,&quot;z&quot;:4},{&quot;x&quot;:1.9835,&quot;y&quot;:2.90819,&quot;z&quot;:3.83478},{&quot;x&quot;:1.92603,&quot;y&quot;:2.94904,&quot;z&quot;:3.83287},{&quot;x&quot;:1.97139,&quot;y&quot;:2.85564,&quot;z&quot;:3.88024},{&quot;x&quot;:1.90644,&quot;y&quot;:2.86401,&quot;z&quot;:3.90644},{&quot;x&quot;:1.8784,&quot;y&quot;:2.92174,&quot;z&quot;:3.87716},{&quot;x&quot;:1.93315,&quot;y&quot;:2.89972,&quot;z&quot;:3.8663}], &quot;faces&quot;:[[0,1,2],[0,3,1],[0,4,3],[0,5,4],[0,2,5],[2,1,6],[1,3,6],[3,4,6],[4,5,6],[5,2,6]], &quot;color&quot;:&quot;#008000&quot;, &quot;opacity&quot;:1.0},{&quot;vertices&quot;:[{&quot;x&quot;:2.88487,&quot;y&quot;:1.92325,&quot;z&quot;:2.88487},{&quot;x&quot;:2.89812,&quot;y&quot;:1.92558,&quot;z&quot;:2.87007},{&quot;x&quot;:2.88154,&quot;y&quot;:1.94103,&quot;z&quot;:2.87634},{&quot;x&quot;:2.89639,&quot;y&quot;:1.90691,&quot;z&quot;:2.88425},{&quot;x&quot;:2.87874,&quot;y&quot;:1.91082,&quot;z&quot;:2.89929},{&quot;x&quot;:2.86957,&quot;y&quot;:1.93191,&quot;z&quot;:2.8944},{&quot;x&quot;:0.0132472,&quot;y&quot;:0.00233107,&quot;z&quot;:-0.0148013},{&quot;x&quot;:-0.00332675,&quot;y&quot;:0.0177822,&quot;z&quot;:-0.00852803},{&quot;x&quot;:0.011514,&quot;y&quot;:-0.0163415,&quot;z&quot;:-0.000619654},{&quot;x&quot;:-0.00613119,&quot;y&quot;:-0.0124307,&quot;z&quot;:0.0144183},{&quot;x&quot;:-0.0153033,&quot;y&quot;:0.00865892,&quot;z&quot;:0.00953065},{&quot;x&quot;:0,&quot;y&quot;:0,&quot;z&quot;:0}], &quot;faces&quot;:[[0,1,2],[0,3,1],[0,4,3],[0,5,4],[0,2,5],[2,1,6,7],[1,3,8,6],[3,4,9,8],[4,5,10,9],[5,2,7,10],[7,6,11],[6,8,11],[8,9,11],[9,10,11],[10,7,11]], &quot;color&quot;:&quot;#6666ff&quot;, &quot;opacity&quot;:1.0},{&quot;vertices&quot;:[{&quot;x&quot;:3,&quot;y&quot;:2,&quot;z&quot;:3},{&quot;x&quot;:2.92461,&quot;y&quot;:1.93024,&quot;z&quot;:2.84047},{&quot;x&quot;:2.87489,&quot;y&quot;:1.97659,&quot;z&quot;:2.85929},{&quot;x&quot;:2.91941,&quot;y&quot;:1.87422,&quot;z&quot;:2.88301},{&quot;x&quot;:2.86648,&quot;y&quot;:1.88596,&quot;z&quot;:2.92813},{&quot;x&quot;:2.83896,&quot;y&quot;:1.94922,&quot;z&quot;:2.91346},{&quot;x&quot;:2.88487,&quot;y&quot;:1.92325,&quot;z&quot;:2.88487}], &quot;faces&quot;:[[0,1,2],[0,3,1],[0,4,3],[0,5,4],[0,2,5],[2,1,6],[1,3,6],[3,4,6],[4,5,6],[5,2,6]], &quot;color&quot;:&quot;#6666ff&quot;, &quot;opacity&quot;:1.0},{&quot;vertices&quot;:[{&quot;x&quot;:1.839,&quot;y&quot;:0.919502,&quot;z&quot;:1.25898e-16},{&quot;x&quot;:1.84034,&quot;y&quot;:0.916837,&quot;z&quot;:-0.0197769},{&quot;x&quot;:1.831,&quot;y&quot;:0.935502,&quot;z&quot;:-0.00894427},{&quot;x&quot;:1.84783,&quot;y&quot;:0.901855,&quot;z&quot;:-0.00327855},{&quot;x&quot;:1.84312,&quot;y&quot;:0.91126,&quot;z&quot;:0.0177507},{&quot;x&quot;:1.83273,&quot;y&quot;:0.932054,&quot;z&quot;:0.0142491},{&quot;x&quot;:0.00133209,&quot;y&quot;:-0.00266418,&quot;z&quot;:-0.0197769},{&quot;x&quot;:-0.008,&quot;y&quot;:0.016,&quot;z&quot;:-0.00894427},{&quot;x&quot;:0.00882328,&quot;y&quot;:-0.0176466,&quot;z&quot;:-0.00327855},{&quot;x&quot;:0.00412099,&quot;y&quot;:-0.00824199,&quot;z&quot;:0.0177507},{&quot;x&quot;:-0.00627636,&quot;y&quot;:0.0125527,&quot;z&quot;:0.0142491},{&quot;x&quot;:0,&quot;y&quot;:0,&quot;z&quot;:0}], &quot;faces&quot;:[[0,1,2],[0,3,1],[0,4,3],[0,5,4],[0,2,5],[2,1,6,7],[1,3,8,6],[3,4,9,8],[4,5,10,9],[5,2,7,10],[7,6,11],[6,8,11],[8,9,11],[9,10,11],[10,7,11]], &quot;color&quot;:&quot;#6666ff&quot;, &quot;opacity&quot;:1.0},{&quot;vertices&quot;:[{&quot;x&quot;:2,&quot;y&quot;:1,&quot;z&quot;:1.3692e-16},{&quot;x&quot;:1.843,&quot;y&quot;:0.911509,&quot;z&quot;:-0.0593308},{&quot;x&quot;:1.815,&quot;y&quot;:0.967502,&quot;z&quot;:-0.0268328},{&quot;x&quot;:1.86547,&quot;y&quot;:0.866562,&quot;z&quot;:-0.00983566},{&quot;x&quot;:1.85137,&quot;y&quot;:0.894776,&quot;z&quot;:0.0532521},{&quot;x&quot;:1.82017,&quot;y&quot;:0.95716,&quot;z&quot;:0.0427473},{&quot;x&quot;:1.839,&quot;y&quot;:0.919502,&quot;z&quot;:1.25898e-16}], &quot;faces&quot;:[[0,1,2],[0,3,1],[0,4,3],[0,5,4],[0,2,5],[2,1,6],[1,3,6],[3,4,6],[4,5,6],[5,2,6]], &quot;color&quot;:&quot;#6666ff&quot;, &quot;opacity&quot;:1.0},{&quot;vertices&quot;:[{&quot;x&quot;:0.872721,&quot;y&quot;:0,&quot;z&quot;:0.872721},{&quot;x&quot;:0.886171,&quot;y&quot;:0.00618034,&quot;z&quot;:0.859271},{&quot;x&quot;:0.872721,&quot;y&quot;:0.02,&quot;z&quot;:0.872721},{&quot;x&quot;:0.881033,&quot;y&quot;:-0.0161803,&quot;z&quot;:0.864408},{&quot;x&quot;:0.864408,&quot;y&quot;:-0.0161803,&quot;z&quot;:0.881033},{&quot;x&quot;:0.859271,&quot;y&quot;:0.00618034,&quot;z&quot;:0.886171},{&quot;x&quot;:0.01345,&quot;y&quot;:0.00618034,&quot;z&quot;:-0.01345},{&quot;x&quot;:0,&quot;y&quot;:0.02,&quot;z&quot;:0},{&quot;x&quot;:0.00831254,&quot;y&quot;:-0.0161803,&quot;z&quot;:-0.00831254},{&quot;x&quot;:-0.00831254,&quot;y&quot;:-0.0161803,&quot;z&quot;:0.00831254},{&quot;x&quot;:-0.01345,&quot;y&quot;:0.00618034,&quot;z&quot;:0.01345},{&quot;x&quot;:0,&quot;y&quot;:0,&quot;z&quot;:0}], &quot;faces&quot;:[[0,1,2],[0,3,1],[0,4,3],[0,5,4],[0,2,5],[2,1,6,7],[1,3,8,6],[3,4,9,8],[4,5,10,9],[5,2,7,10],[7,6,11],[6,8,11],[8,9,11],[9,10,11],[10,7,11]], &quot;color&quot;:&quot;#6666ff&quot;, &quot;opacity&quot;:1.0},{&quot;vertices&quot;:[{&quot;x&quot;:1,&quot;y&quot;:0,&quot;z&quot;:1},{&quot;x&quot;:0.913071,&quot;y&quot;:0.018541,&quot;z&quot;:0.832371},{&quot;x&quot;:0.872721,&quot;y&quot;:0.06,&quot;z&quot;:0.872721},{&quot;x&quot;:0.897658,&quot;y&quot;:-0.048541,&quot;z&quot;:0.847783},{&quot;x&quot;:0.847783,&quot;y&quot;:-0.048541,&quot;z&quot;:0.897658},{&quot;x&quot;:0.832371,&quot;y&quot;:0.018541,&quot;z&quot;:0.913071},{&quot;x&quot;:0.872721,&quot;y&quot;:0,&quot;z&quot;:0.872721}], &quot;faces&quot;:[[0,1,2],[0,3,1],[0,4,3],[0,5,4],[0,2,5],[2,1,6],[1,3,6],[3,4,6],[4,5,6],[5,2,6]], &quot;color&quot;:&quot;#6666ff&quot;, &quot;opacity&quot;:1.0}];\n    for ( var i=0 ; i < surfaces.length ; i++ ) addSurface( surfaces[i] );\n\n    function addSurface( json ) {\n\n        var useFaceColors = json.hasOwnProperty( 'face_colors' ) ? true : false;\n\n        var geometry = new THREE.Geometry();\n        for ( var i=0 ; i < json.vertices.length ; i++ ) {\n            var v = json.vertices[i];\n            geometry.vertices.push( new THREE.Vector3( a[0]*v.x, a[1]*v.y, a[2]*v.z ) );\n        }\n        for ( var i=0 ; i < json.faces.length ; i++ ) {\n            var f = json.faces[i];\n            for ( var j=0 ; j < f.length - 2 ; j++ ) {\n                var face = new THREE.Face3( f[0], f[j+1], f[j+2] );\n                if ( useFaceColors ) face.color.set( json.face_colors[i] );\n                geometry.faces.push( face );\n            }\n        }\n        geometry.computeVertexNormals();\n\n        var transparent = json.opacity < 1 ? true : false;\n        var flatShading = json.hasOwnProperty( 'useFlatShading' ) ? true : false;\n\n        var material = new THREE.MeshPhongMaterial( { side: THREE.DoubleSide,\n                                     color: useFaceColors ? 'white' : json.color,\n                                     vertexColors: useFaceColors ? THREE.FaceColors : THREE.NoColors,\n                                     transparent: transparent, opacity: json.opacity,\n                                     shininess: 20, flatShading: flatShading } );\n\n        var c = new THREE.Vector3();\n        geometry.computeBoundingBox();\n        geometry.boundingBox.getCenter( c );\n        geometry.translate( -c.x, -c.y, -c.z );\n\n        var mesh = new THREE.Mesh( geometry, material );\n        mesh.position.set( c.x, c.y, c.z );\n        scene.add( mesh );\n\n    }\n\n    var scratch = new THREE.Vector3();\n\n    function render() {\n\n        if ( animate ) requestAnimationFrame( render );\n        renderer.render( scene, camera );\n\n        for ( var i=0 ; i < scene.children.length ; i++ ) {\n            if ( scene.children[i].type === 'Sprite' ) {\n                var sprite = scene.children[i];\n                var adjust = scratch.addVectors( sprite.position, scene.position )\n                               .sub( camera.position ).length() / 5;\n                sprite.scale.set( adjust, .25*adjust ); // ratio of canvas width to height\n            }\n        }\n    }\n    \n    render();\n    controls.update();\n    if ( !animate ) render();\n\n</script>\n\n<span id=&quot;download&quot; onclick=&quot;saveAsPNG()&quot;>&#x2b07;</span>\n\n</body>\n</html>\n\"\n        width=\"100%\"\n        height=\"400\"\n        style=\"border: 0;\">\n</iframe>\n",
      "text/plain": [
       "Graphics3d Object"
      ]
     },
     "execution_count": 3,
     "metadata": {
     },
     "output_type": "execute_result"
    }
   ],
   "source": [
    "o=vector([0,0,0])\n",
    "p=arrow(o,b0,color=\"green\")\n",
    "p1=arrow(o,a1)\n",
    "p2=arrow(o,a2)\n",
    "p3=arrow(o,a3)\n",
    "show(p+p1+p2+p3, viewer=\"threejs\")"
   ]
  },
  {
   "cell_type": "markdown",
   "metadata": {
    "collapsed": false
   },
   "source": [
    "Wir sehen, dass die 3 blauen Vektoren $\\vec{a}_1, \\vec{a}_2,\\vec{a}_3$ nicht alle in einer Ebene liegen. Sie sind also linear unabhängig.  \n",
    "Wir suchen Zahlen $a,b,c$, so dass $a\\cdot\\vec{a}_1+b\\cdot\\vec{a}_2+c\\cdot\\vec{a}_3=\\vec{b}$ ist. Daraus ergibt sich für jede der 3 Komponenten eine Gleichung in den Variablen $a,b,c$. Diese Gleichungen bilden ein lineares Gleichungssystem $GS$."
   ]
  },
  {
   "cell_type": "code",
   "execution_count": 11,
   "metadata": {
    "collapsed": false,
    "jupyter": {
     "source_hidden": false
    },
    "tags": [
     "hide_input"
    ]
   },
   "outputs": [
    {
     "data": {
      "text/html": [
       "<html><script type=\"math/tex; mode=display\">\\newcommand{\\Bold}[1]{\\mathbf{#1}}\\left[3 \\, a + 2 \\, b + c = 2, 2 \\, a + b = 3, 3 \\, a + c = 4\\right]</script></html>"
      ],
      "text/plain": [
       "[3*a + 2*b + c == 2, 2*a + b == 3, 3*a + c == 4]"
      ]
     },
     "execution_count": 11,
     "metadata": {
     },
     "output_type": "execute_result"
    }
   ],
   "source": [
    "var('a,b,c')\n",
    "g0 = a*a1[0]+b*a2[0]+c*a3[0] == b0[0]\n",
    "g1 = a*a1[1]+b*a2[1]+c*a3[1] == b0[1]\n",
    "g2 = a*a1[2]+b*a2[2]+c*a3[2] == b0[2]\n",
    "GS = [g0,g1,g2]\n",
    "show(GS)"
   ]
  },
  {
   "cell_type": "markdown",
   "metadata": {
    "collapsed": false
   },
   "source": [
    "Wir lösen das Gleichungssystem $GS$:"
   ]
  },
  {
   "cell_type": "code",
   "execution_count": 5,
   "metadata": {
    "collapsed": false,
    "jupyter": {
     "source_hidden": true
    }
   },
   "outputs": [
    {
     "data": {
      "text/html": [
       "<html><script type=\"math/tex; mode=display\">\\newcommand{\\Bold}[1]{\\mathbf{#1}}\\left[\\left[a = 2, b = \\left(-1\\right), c = \\left(-2\\right)\\right]\\right]</script></html>"
      ],
      "text/plain": [
       "[[a == 2, b == -1, c == -2]]"
      ]
     },
     "execution_count": 5,
     "metadata": {
     },
     "output_type": "execute_result"
    }
   ],
   "source": [
    "sol=solve(GS,a,b,c)\n",
    "show(sol)"
   ]
  },
  {
   "cell_type": "markdown",
   "metadata": {
    "collapsed": false
   },
   "source": [
    "Wir entnehmen der Lösung die gefundenen Koeffizienten und setzen sie in die Linearkombination $a \\vec{a}_1 + b\\vec{a}_2 + c \\vec{a}_3 = \\vec{b}$ ein."
   ]
  },
  {
   "cell_type": "code",
   "execution_count": 6,
   "metadata": {
    "collapsed": false,
    "jupyter": {
     "source_hidden": true
    }
   },
   "outputs": [
    {
     "data": {
      "text/plain": [
       "True"
      ]
     },
     "execution_count": 6,
     "metadata": {
     },
     "output_type": "execute_result"
    }
   ],
   "source": [
    "ca=sol[0][0].rhs()\n",
    "cb=sol[0][1].rhs()\n",
    "cc=sol[0][2].rhs()\n",
    "ca*a1+cb*a2+cc*a3==b0"
   ]
  },
  {
   "cell_type": "code",
   "execution_count": 0,
   "metadata": {
    "collapsed": false
   },
   "outputs": [
   ],
   "source": [
   ]
  }
 ],
 "metadata": {
  "kernelspec": {
   "display_name": "SageMath (stable)",
   "language": "sagemath",
   "metadata": {
    "cocalc": {
     "description": "Open-source mathematical software system",
     "priority": 10,
     "url": "https://www.sagemath.org/"
    }
   },
   "name": "sagemath"
  },
  "language_info": {
   "codemirror_mode": {
    "name": "ipython",
    "version": 2
   },
   "file_extension": ".py",
   "mimetype": "text/x-python",
   "name": "python",
   "nbconvert_exporter": "python",
   "pygments_lexer": "ipython2",
   "version": "2.7.15"
  }
 },
 "nbformat": 4,
 "nbformat_minor": 0
}