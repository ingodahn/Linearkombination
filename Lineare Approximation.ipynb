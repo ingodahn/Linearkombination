{
 "cells": [
  {
   "cell_type": "markdown",
   "metadata": {
    "collapsed": false
   },
   "source": [
    "Dieses Material ist i.W. eine Übersetzung des Anfangs von _Linear and Quadratic Approximation Notes_ von Aaron Tresham, University of Hawaii at Hilo. Es ist\n",
    "<a rel=\"license\" href=\"http://creativecommons.org/licenses/by-sa/4.0/\"><img alt=\"Creative Commons License\" style=\"border-width:0\" src=\"https://i.creativecommons.org/l/by-sa/4.0/80x15.png\" /></a><br /> lizensiert unter der Lizemz <a rel=\"license\" href=\"http://creativecommons.org/licenses/by-sa/4.0/\">Creative Commons Attribution-ShareAlike 4.0 International License</a>."
   ]
  },
  {
   "cell_type": "markdown",
   "metadata": {
    "collapsed": false
   },
   "source": [
    "### Voraussetzungen:\n",
    "\n",
    "* Einführung in Sage\n",
    "* Tangenten\n",
    "* Ableitungen"
   ]
  },
  {
   "cell_type": "markdown",
   "metadata": {
    "collapsed": false
   },
   "source": [
    "# Lineare Approximation\n",
    "## Ingo Dahn\n",
    "\n",
    "Es ist oft zweckmäßig, eine komplizierte Funktion durch eine einfacher zu berechnende Funktion näherungsweise zu berechnen. Oft ist die \"einfachere\" Funktion dabei ein Polynom. Die einfachsten Polynome sind lineare Funktionen, also Polynome vom Grad 1. Die Annäherung einer komplexen Funktion durch eine lineare Funktion heißt _Linearisierung_ oder _lineare Approximation_.The simplest polynomial is a straight line (degree 1). Approximating a function with a linear function is called linearization (or linear approximation).\n",
    "\n",
    "Praktisch ist es meist nicht notwendig, für lineare Approximationen einen Computer zu verwenden - Computer können viel genauer rechnen. Dies bietet uns aber eine gute Möglichkeit zu untersuchen, _wie genau_ selbst eine einfache lineare Approximation sein kann."
   ]
  },
  {
   "cell_type": "markdown",
   "metadata": {
    "collapsed": false
   },
   "source": [
    "## Linearisierung\n",
    "Wie wir wissen, verlaufen die Graphen differenzierbarer Funktionen in der Umgebung eines Punktes nahe an ihren Tangenten in diesem Punkt.Deshalb können differenzierbare Funktionen dort durch die lineare Funktion angenähert werden, die diese Tangente beschreibt.\n",
    "\n",
    "Wie genau ist eine solche AWir untersuchen das an Let's start with a relatively simple example."
   ]
  },
  {
   "cell_type": "markdown",
   "metadata": {
    "collapsed": false
   },
   "source": [
    "## Beispiel\n",
    "\n",
    "Wir wollen $\\sqrt[3]{28}$ näherungsweise ohne Computer oder Taschenrechner berechnen. Dies ist (zumindest ohne Hilfsmittel) kompliziert. Deshalb approximieren wir die Kubikwurzelfunktion durch eine lineare Funktion, die ine Tangente beschreibt.\n",
    "\n",
    "Wo wollen wir die Tangente an den Graphen der Kubikwurzelfunktion legen? Dafür gibt es 2 Anforderungen:\n",
    "\n",
    "1. Die x-Koordinate muss nahe bei 28 liegen, da unsere Aprroximation nur in der Nähe des Tangentialpunktes funktioniert.\n",
    "\n",
    "2. An dieser x-Koordinate muss sich die Kubikwurzel (d.h. die zugehörige y-Koordinate) einfach berechnen lassen, denn an dieser Stelle benötigen wir einen möglichst genauen Wert, um die Gleichung der Tangente zu bestimmen.\n",
    "\n",
    "Für dieses Beispiel wählen wir die Tangente bei $x=27$. Dieser Wert liegt nahe bei 28, und seine Kubukwurzel $\\sqrt[3]{27}=3$ ist bekannt."
   ]
  },
  {
   "cell_type": "markdown",
   "metadata": {
    "collapsed": false
   },
   "source": [
    "Wir berechnen jetzt die lineare Funktion, die die Tangente beschreibt um sie zur näherungsweisen Berechnung von $\\sqrt[3]{28}$ zu verwenden.\n",
    "\n",
    "Als Erstes definieren wir die Funktion, die wir approximieren wollen:"
   ]
  },
  {
   "cell_type": "code",
   "execution_count": 2,
   "metadata": {
    "collapsed": false
   },
   "outputs": [
   ],
   "source": [
    "f(x)=x^(1/3)  #Kubikwurzel"
   ]
  },
  {
   "cell_type": "markdown",
   "metadata": {
    "collapsed": false
   },
   "source": [
    "Wir bestimmen deren Ableitung:"
   ]
  },
  {
   "cell_type": "code",
   "execution_count": 3,
   "metadata": {
    "collapsed": false,
    "jupyter": {
    }
   },
   "outputs": [
    {
     "data": {
      "text/html": [
       "<html><script type=\"math/tex; mode=display\">\\newcommand{\\Bold}[1]{\\mathbf{#1}}\\frac{1}{3 \\, x^{\\frac{2}{3}}}</script></html>"
      ],
      "text/plain": [
       "1/3/x^(2/3)"
      ]
     },
     "execution_count": 3,
     "metadata": {
     },
     "output_type": "execute_result"
    }
   ],
   "source": [
    "df(x)=derivative(f,x);\n",
    "show(df(x))"
   ]
  },
  {
   "cell_type": "markdown",
   "metadata": {
    "collapsed": false
   },
   "source": [
    "Als Nächstes benötigen wir $f'(27)$ um den Anstieg der Tangente zu bestimmen. Da $f(27)$ einfach zu berechnen ist, sollte die Berechnung von $f'(27)$ auch nicht zu kompliziert sein.\n",
    "\n",
    "In diesem Fall ist $\\displaystyle f'(x)=\\frac{1}{3x^{2/3}}$, also $\\displaystyle f'(27)=\\frac{1}{3\\cdot27^{2/3}}=\\frac{1}{3\\cdot3^2}=\\frac{1}{27}$."
   ]
  },
  {
   "cell_type": "markdown",
   "metadata": {
    "collapsed": false
   },
   "source": [
    "Bestimme eine lineare Funktion für die Tangente: $TL(x)=f(x_0)+f'(x_0)(x-x_0)$"
   ]
  },
  {
   "cell_type": "code",
   "execution_count": 4,
   "metadata": {
    "collapsed": false
   },
   "outputs": [
    {
     "data": {
      "text/html": [
       "<html><script type=\"math/tex; mode=display\">\\newcommand{\\Bold}[1]{\\mathbf{#1}}\\frac{1}{27} \\, x + 2</script></html>"
      ],
      "text/plain": [
       "1/27*x + 2"
      ]
     },
     "execution_count": 4,
     "metadata": {
     },
     "output_type": "execute_result"
    }
   ],
   "source": [
    "TL(x)=3+1/27*(x-27); show(TL(x))"
   ]
  },
  {
   "cell_type": "markdown",
   "metadata": {
    "collapsed": false
   },
   "source": [
    "Zur Kontrolle stellen wir $f$ and $TL$ nahe $x=27$. [Of course, if we were actually doing approximation by hand, we wouldn't do this step.]"
   ]
  },
  {
   "cell_type": "code",
   "execution_count": 5,
   "metadata": {
    "collapsed": false
   },
   "outputs": [
    {
     "data": {
      "image/png": "[encoded data removed]",
      "text/plain": [
       "Graphics object consisting of 3 graphics primitives"
      ]
     },
     "execution_count": 5,
     "metadata": {
     },
     "output_type": "execute_result"
    }
   ],
   "source": [
    "f(x)=x^(1/3);TL(x)=3+1/27*(x-27)\n",
    "plot(f,xmin=20,xmax=34)+plot(TL,xmin=20,xmax=34,color='red')+point((27,3),size=25,color='black')"
   ]
  },
  {
   "cell_type": "markdown",
   "metadata": {
    "collapsed": false
   },
   "source": [
    "Wie erwartet verläuft die Tangente in der Umgebung von $x=27$ nahe am Graphen von $f$.\n",
    "\n",
    "Nun können wir die Tangente zur Approximation von $\\sqrt[3]{28}$ verwenden.\n",
    "\n",
    "Die Tangente wird durch die Gleichung $TL(x)=3+\\frac{1}{27}(x-27)$ beschrieben. Da $\\sqrt[3]{x}\\approx TL(x)$ (nahe $x=27$), haben wir $\\sqrt[3]{28}\\approx TL(28)=3+\\frac{1}{27}(28-27)=3+\\frac{1}{27}=\\frac{82}{27}\\approx3.0370$."
   ]
  },
  {
   "cell_type": "code",
   "execution_count": 6,
   "metadata": {
    "collapsed": false
   },
   "outputs": [
    {
     "data": {
      "text/plain": [
       "3.03703703703704"
      ]
     },
     "execution_count": 6,
     "metadata": {
     },
     "output_type": "execute_result"
    }
   ],
   "source": [
    "N(TL(28))"
   ]
  },
  {
   "cell_type": "markdown",
   "metadata": {
    "collapsed": false
   },
   "source": [
    "Vergleichen wir dies mit der Approximation von $\\sqrt[3]{28}$ durch Sage:"
   ]
  },
  {
   "cell_type": "code",
   "execution_count": 13,
   "metadata": {
    "collapsed": false
   },
   "outputs": [
    {
     "data": {
      "text/plain": [
       "3.03658897187566"
      ]
     },
     "execution_count": 13,
     "metadata": {
     },
     "output_type": "execute_result"
    }
   ],
   "source": [
    "N(28^(1/3))"
   ]
  },
  {
   "cell_type": "markdown",
   "metadata": {
    "collapsed": false
   },
   "source": [
    "Der Unterschied beträgt etwa $3.03703703703704-3.03658897187566=0.000448065161379851$, also ein prozentualer Fehler von etwa $0.0148\\%$.\n",
    "\n",
    "<br>\n",
    "Anmerkung: Prozentualer Fehler $=\\displaystyle\\left|\\frac{\\text{Näherungswertswert}-\\text{Genauer Wert}}{\\text{Genauer Wert}}\\right|\\cdot100$"
   ]
  },
  {
   "cell_type": "code",
   "execution_count": 8,
   "metadata": {
    "collapsed": false
   },
   "outputs": [
    {
     "data": {
      "text/plain": [
       "0.0147555420086370"
      ]
     },
     "execution_count": 8,
     "metadata": {
     },
     "output_type": "execute_result"
    }
   ],
   "source": [
    "N(abs((TL(28)-f(28))/f(28))*100)"
   ]
  },
  {
   "cell_type": "markdown",
   "metadata": {
    "collapsed": false
   },
   "source": [
    "Versuchen wir, damit näherungsweise $\\displaystyle\\sqrt[3]{29}$ zu berechnen!\n",
    "\n",
    "Da 29 noch ziemlich nah an 27 liegt, können wir zur linearen Approximation die selbe Tangente benutzen:\n",
    "\n",
    "$\\sqrt[3]{29}\\approx TL(29)=3+\\frac{1}{27}(29-27)=3+\\frac{2}{27}=\\frac{83}{27}\\approx3.0741$."
   ]
  },
  {
   "cell_type": "code",
   "execution_count": 14,
   "metadata": {
    "collapsed": false
   },
   "outputs": [
    {
     "data": {
      "text/plain": [
       "3.07407407407407"
      ]
     },
     "execution_count": 14,
     "metadata": {
     },
     "output_type": "execute_result"
    }
   ],
   "source": [
    "N(TL(29))"
   ]
  },
  {
   "cell_type": "markdown",
   "metadata": {
    "collapsed": false
   },
   "source": [
    "Wir erhalten $\\sqrt[3]{29}\\approx 3.0723$.\n",
    "\n",
    "Und als möglichst genauen Wert:"
   ]
  },
  {
   "cell_type": "code",
   "execution_count": 10,
   "metadata": {
    "collapsed": false
   },
   "outputs": [
    {
     "data": {
      "text/plain": [
       "3.07231682568585"
      ]
     },
     "execution_count": 10,
     "metadata": {
     },
     "output_type": "execute_result"
    }
   ],
   "source": [
    "N(29^(1/3))"
   ]
  },
  {
   "cell_type": "markdown",
   "metadata": {
    "collapsed": false
   },
   "source": [
    "Dies ergibt einen prozentualen Fehler von etwa $0.0572\\%$"
   ]
  },
  {
   "cell_type": "code",
   "execution_count": 11,
   "metadata": {
    "collapsed": false
   },
   "outputs": [
    {
     "data": {
      "text/plain": [
       "0.0571961971348601"
      ]
     },
     "execution_count": 11,
     "metadata": {
     },
     "output_type": "execute_result"
    }
   ],
   "source": [
    "N(abs((TL(29)-f(29))/f(29))*100)"
   ]
  },
  {
   "cell_type": "markdown",
   "metadata": {
    "collapsed": false
   },
   "source": [
    "Es ist zu erwarten, dass der prozentuale Fehler größer wird, wenn wir uns von 27 entfernen. Dies sieht man deutlich im folgenden Graphen, der die Entwicklung des prozentualen Fehlers in Abhängigkeit von $x$ darstellt."
   ]
  },
  {
   "cell_type": "code",
   "execution_count": 15,
   "metadata": {
    "collapsed": false
   },
   "outputs": [
    {
     "data": {
      "image/png": "[encoded data removed]",
      "text/plain": [
       "Graphics object consisting of 1 graphics primitive"
      ]
     },
     "execution_count": 15,
     "metadata": {
     },
     "output_type": "execute_result"
    }
   ],
   "source": [
    "f(x)=x^(1/3);TL(x)=3+1/27*(x-27)\n",
    "plot(abs((TL(x)-f(x))/f(x))*100,xmin=20,xmax=34,axes_labels=['$x$','Prozentualer Fehler'],fontsize=8)"
   ]
  },
  {
   "cell_type": "markdown",
   "metadata": {
    "collapsed": false
   },
   "source": [
    "Selbst 7 Einheiten von 27 entfernt bleibt der prozentuale Fehler bei der Berechnung von $\\sqrt[3]{x}$ unter 1% - nicht schlecht für eine Berechnung, die man beim mittagessen auf der Serviette durchführen kann!"
   ]
  },
  {
   "cell_type": "code",
   "execution_count": 0,
   "metadata": {
    "collapsed": false
   },
   "outputs": [
   ],
   "source": [
   ]
  }
 ],
 "metadata": {
  "kernelspec": {
   "display_name": "SageMath (stable)",
   "language": "sagemath",
   "metadata": {
    "cocalc": {
     "description": "Open-source mathematical software system",
     "priority": 10,
     "url": "https://www.sagemath.org/"
    }
   },
   "name": "sagemath"
  },
  "language_info": {
   "codemirror_mode": {
    "name": "ipython",
    "version": 2
   },
   "file_extension": ".py",
   "mimetype": "text/x-python",
   "name": "python",
   "nbconvert_exporter": "python",
   "pygments_lexer": "ipython2",
   "version": "2.7.15"
  }
 },
 "nbformat": 4,
 "nbformat_minor": 0
}